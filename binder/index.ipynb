{
 "cells": [
  {
   "cell_type": "code",
   "execution_count": 1,
   "metadata": {
    "execution": {
     "iopub.execute_input": "2024-02-26T01:05:16.388765Z",
     "iopub.status.busy": "2024-02-26T01:05:16.388570Z",
     "iopub.status.idle": "2024-02-26T01:05:16.625545Z",
     "shell.execute_reply": "2024-02-26T01:05:16.624878Z"
    }
   },
   "outputs": [],
   "source": [
    "import pandas as pd\n"
   ]
  },
  {
   "cell_type": "markdown",
   "metadata": {},
   "source": [
    "TODO\n"
   ]
  },
  {
   "cell_type": "code",
   "execution_count": 2,
   "metadata": {
    "execution": {
     "iopub.execute_input": "2024-02-26T01:05:16.628975Z",
     "iopub.status.busy": "2024-02-26T01:05:16.628343Z",
     "iopub.status.idle": "2024-02-26T01:05:16.631440Z",
     "shell.execute_reply": "2024-02-26T01:05:16.630867Z"
    }
   },
   "outputs": [],
   "source": [
    "#TODO\n"
   ]
  }
 ],
 "metadata": {
  "kernelspec": {
   "display_name": "Python 3",
   "language": "python",
   "name": "python3"
  },
  "language_info": {
   "codemirror_mode": {
    "name": "ipython",
    "version": 3
   },
   "file_extension": ".py",
   "mimetype": "text/x-python",
   "name": "python",
   "nbconvert_exporter": "python",
   "pygments_lexer": "ipython3",
   "version": "3.10.12"
  }
 },
 "nbformat": 4,
 "nbformat_minor": 4
}
