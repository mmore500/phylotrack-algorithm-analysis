{
 "cells": [
  {
   "cell_type": "code",
   "execution_count": 1,
   "metadata": {
    "execution": {
     "iopub.execute_input": "2025-04-20T00:31:10.776190Z",
     "iopub.status.busy": "2025-04-20T00:31:10.775762Z",
     "iopub.status.idle": "2025-04-20T00:31:11.028703Z",
     "shell.execute_reply": "2025-04-20T00:31:11.028157Z"
    }
   },
   "outputs": [],
   "source": [
    "import pandas as pd\n"
   ]
  },
  {
   "cell_type": "markdown",
   "metadata": {},
   "source": [
    "TODO\n"
   ]
  },
  {
   "cell_type": "code",
   "execution_count": 2,
   "metadata": {
    "execution": {
     "iopub.execute_input": "2025-04-20T00:31:11.031529Z",
     "iopub.status.busy": "2025-04-20T00:31:11.031311Z",
     "iopub.status.idle": "2025-04-20T00:31:11.033914Z",
     "shell.execute_reply": "2025-04-20T00:31:11.033379Z"
    }
   },
   "outputs": [],
   "source": [
    "#TODO\n"
   ]
  }
 ],
 "metadata": {
  "kernelspec": {
   "display_name": "Python 3",
   "language": "python",
   "name": "python3"
  },
  "language_info": {
   "codemirror_mode": {
    "name": "ipython",
    "version": 3
   },
   "file_extension": ".py",
   "mimetype": "text/x-python",
   "name": "python",
   "nbconvert_exporter": "python",
   "pygments_lexer": "ipython3",
   "version": "3.10.12"
  }
 },
 "nbformat": 4,
 "nbformat_minor": 4
}
