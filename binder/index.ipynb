{
 "cells": [
  {
   "cell_type": "code",
   "execution_count": 1,
   "metadata": {
    "execution": {
     "iopub.execute_input": "2025-04-27T00:31:06.191156Z",
     "iopub.status.busy": "2025-04-27T00:31:06.190974Z",
     "iopub.status.idle": "2025-04-27T00:31:06.429134Z",
     "shell.execute_reply": "2025-04-27T00:31:06.428431Z"
    }
   },
   "outputs": [],
   "source": [
    "import pandas as pd\n"
   ]
  },
  {
   "cell_type": "markdown",
   "metadata": {},
   "source": [
    "TODO\n"
   ]
  },
  {
   "cell_type": "code",
   "execution_count": 2,
   "metadata": {
    "execution": {
     "iopub.execute_input": "2025-04-27T00:31:06.432407Z",
     "iopub.status.busy": "2025-04-27T00:31:06.431949Z",
     "iopub.status.idle": "2025-04-27T00:31:06.434960Z",
     "shell.execute_reply": "2025-04-27T00:31:06.434340Z"
    }
   },
   "outputs": [],
   "source": [
    "#TODO\n"
   ]
  }
 ],
 "metadata": {
  "kernelspec": {
   "display_name": "Python 3",
   "language": "python",
   "name": "python3"
  },
  "language_info": {
   "codemirror_mode": {
    "name": "ipython",
    "version": 3
   },
   "file_extension": ".py",
   "mimetype": "text/x-python",
   "name": "python",
   "nbconvert_exporter": "python",
   "pygments_lexer": "ipython3",
   "version": "3.10.12"
  }
 },
 "nbformat": 4,
 "nbformat_minor": 4
}
