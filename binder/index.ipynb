{
 "cells": [
  {
   "cell_type": "code",
   "execution_count": 1,
   "metadata": {
    "execution": {
     "iopub.execute_input": "2024-09-08T00:26:41.444619Z",
     "iopub.status.busy": "2024-09-08T00:26:41.444208Z",
     "iopub.status.idle": "2024-09-08T00:26:41.674368Z",
     "shell.execute_reply": "2024-09-08T00:26:41.673727Z"
    }
   },
   "outputs": [],
   "source": [
    "import pandas as pd\n"
   ]
  },
  {
   "cell_type": "markdown",
   "metadata": {},
   "source": [
    "TODO\n"
   ]
  },
  {
   "cell_type": "code",
   "execution_count": 2,
   "metadata": {
    "execution": {
     "iopub.execute_input": "2024-09-08T00:26:41.677395Z",
     "iopub.status.busy": "2024-09-08T00:26:41.676906Z",
     "iopub.status.idle": "2024-09-08T00:26:41.679728Z",
     "shell.execute_reply": "2024-09-08T00:26:41.679159Z"
    }
   },
   "outputs": [],
   "source": [
    "#TODO\n"
   ]
  }
 ],
 "metadata": {
  "kernelspec": {
   "display_name": "Python 3",
   "language": "python",
   "name": "python3"
  },
  "language_info": {
   "codemirror_mode": {
    "name": "ipython",
    "version": 3
   },
   "file_extension": ".py",
   "mimetype": "text/x-python",
   "name": "python",
   "nbconvert_exporter": "python",
   "pygments_lexer": "ipython3",
   "version": "3.10.12"
  }
 },
 "nbformat": 4,
 "nbformat_minor": 4
}
