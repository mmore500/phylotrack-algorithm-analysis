{
 "cells": [
  {
   "cell_type": "code",
   "execution_count": 1,
   "metadata": {
    "execution": {
     "iopub.execute_input": "2024-02-25T22:26:43.396262Z",
     "iopub.status.busy": "2024-02-25T22:26:43.396082Z",
     "iopub.status.idle": "2024-02-25T22:26:43.619904Z",
     "shell.execute_reply": "2024-02-25T22:26:43.619373Z"
    }
   },
   "outputs": [],
   "source": [
    "import pandas as pd\n"
   ]
  },
  {
   "cell_type": "markdown",
   "metadata": {},
   "source": [
    "TODO\n"
   ]
  },
  {
   "cell_type": "code",
   "execution_count": 2,
   "metadata": {
    "execution": {
     "iopub.execute_input": "2024-02-25T22:26:43.622807Z",
     "iopub.status.busy": "2024-02-25T22:26:43.622383Z",
     "iopub.status.idle": "2024-02-25T22:26:43.625467Z",
     "shell.execute_reply": "2024-02-25T22:26:43.624883Z"
    }
   },
   "outputs": [],
   "source": [
    "#TODO\n"
   ]
  }
 ],
 "metadata": {
  "kernelspec": {
   "display_name": "Python 3",
   "language": "python",
   "name": "python3"
  },
  "language_info": {
   "codemirror_mode": {
    "name": "ipython",
    "version": 3
   },
   "file_extension": ".py",
   "mimetype": "text/x-python",
   "name": "python",
   "nbconvert_exporter": "python",
   "pygments_lexer": "ipython3",
   "version": "3.10.12"
  }
 },
 "nbformat": 4,
 "nbformat_minor": 4
}
