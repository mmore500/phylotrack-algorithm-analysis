{
 "cells": [
  {
   "cell_type": "code",
   "execution_count": 1,
   "metadata": {
    "execution": {
     "iopub.execute_input": "2025-05-04T00:33:36.553727Z",
     "iopub.status.busy": "2025-05-04T00:33:36.553303Z",
     "iopub.status.idle": "2025-05-04T00:33:36.784282Z",
     "shell.execute_reply": "2025-05-04T00:33:36.783601Z"
    }
   },
   "outputs": [],
   "source": [
    "import pandas as pd\n"
   ]
  },
  {
   "cell_type": "markdown",
   "metadata": {},
   "source": [
    "TODO\n"
   ]
  },
  {
   "cell_type": "code",
   "execution_count": 2,
   "metadata": {
    "execution": {
     "iopub.execute_input": "2025-05-04T00:33:36.787044Z",
     "iopub.status.busy": "2025-05-04T00:33:36.786766Z",
     "iopub.status.idle": "2025-05-04T00:33:36.789603Z",
     "shell.execute_reply": "2025-05-04T00:33:36.789041Z"
    }
   },
   "outputs": [],
   "source": [
    "#TODO\n"
   ]
  }
 ],
 "metadata": {
  "kernelspec": {
   "display_name": "Python 3",
   "language": "python",
   "name": "python3"
  },
  "language_info": {
   "codemirror_mode": {
    "name": "ipython",
    "version": 3
   },
   "file_extension": ".py",
   "mimetype": "text/x-python",
   "name": "python",
   "nbconvert_exporter": "python",
   "pygments_lexer": "ipython3",
   "version": "3.10.12"
  }
 },
 "nbformat": 4,
 "nbformat_minor": 4
}
